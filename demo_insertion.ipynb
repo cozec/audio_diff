{
 "cells": [
  {
   "cell_type": "code",
   "execution_count": null,
   "id": "772e0cc5-3c27-4a4a-882f-22a2886a08fb",
   "metadata": {},
   "outputs": [],
   "source": [
    "import numpy as np\n",
    "import soundfile as sf\n",
    "import gtts\n",
    "import io\n",
    "import librosa\n",
    "\n",
    "def text_to_audio(text, sr=16000):\n",
    "    \"\"\"Convert text to audio using Google TTS\"\"\"\n",
    "    try:\n",
    "        tts = gtts.gTTS(text=text, lang='en', slow=False)\n",
    "        fp = io.BytesIO()\n",
    "        tts.write_to_fp(fp)\n",
    "        fp.seek(0)\n",
    "        y, _ = librosa.load(fp, sr=sr)\n",
    "        return y\n",
    "    except Exception as e:\n",
    "        print(f\"Error in text_to_audio: {str(e)}\")\n",
    "        raise\n",
    "\n",
    "def create_demo_insertion():\n",
    "    \"\"\"Create demo audio files with word insertion\"\"\"\n",
    "    sr = 16000  # Sample rate\n",
    "    \n",
    "    try:\n",
    "        # Generate synthetic speech for words\n",
    "        y1 = text_to_audio(\"the\", sr=sr)\n",
    "        y2 = text_to_audio(\"cat\", sr=sr)\n",
    "        y_insert = text_to_audio(\"big\", sr=sr)\n",
    "        \n",
    "        # Add small silence between words\n",
    "        silence = np.zeros(int(0.2 * sr))  # 200ms silence\n",
    "        \n",
    "        # Create original audio with two words\n",
    "        original_audio = np.concatenate([y1, silence, y2])\n",
    "        \n",
    "        # Create modified audio by inserting a word in the middle\n",
    "        modified_audio = np.concatenate([y1, silence, y_insert, silence, y2])\n",
    "        \n",
    "        # Save audio files\n",
    "        sf.write('original_insertion.wav', original_audio, sr)\n",
    "        sf.write('modified_insertion.wav', modified_audio, sr)\n",
    "        \n",
    "        print(\"\\nInsertion Demo Files Created:\")\n",
    "        print(f\"Original audio: 'the cat'\")\n",
    "        print(f\"Modified audio: 'the big cat' (word inserted)\")\n",
    "        \n",
    "        return 'original_insertion.wav', 'modified_insertion.wav'\n",
    "        \n",
    "    except Exception as e:\n",
    "        print(f\"Error creating insertion demo: {str(e)}\")\n",
    "        raise\n",
    "\n",
    "if __name__ == \"__main__\":\n",
    "    try:\n",
    "        original_file, modified_file = create_demo_insertion()\n",
    "        from compare_audio_mel import MelSpectrogramComparator\n",
    "        comparator = MelSpectrogramComparator(original_file, modified_file)\n",
    "        comparator.compare()\n",
    "    except Exception as e:\n",
    "        print(f\"Error: {str(e)}\") "
   ]
  },
  {
   "cell_type": "markdown",
   "id": "6c5713ce-c625-41fd-9f3f-593cba36be1d",
   "metadata": {},
   "source": [
    "![image](plots/demo_insertion.png)"
   ]
  },
  {
   "cell_type": "code",
   "execution_count": null,
   "id": "bed16613-c203-42f6-9765-871f1958c8ee",
   "metadata": {},
   "outputs": [],
   "source": []
  }
 ],
 "metadata": {
  "kernelspec": {
   "display_name": "Python 3 (ipykernel)",
   "language": "python",
   "name": "python3"
  },
  "language_info": {
   "codemirror_mode": {
    "name": "ipython",
    "version": 3
   },
   "file_extension": ".py",
   "mimetype": "text/x-python",
   "name": "python",
   "nbconvert_exporter": "python",
   "pygments_lexer": "ipython3",
   "version": "3.9.6"
  }
 },
 "nbformat": 4,
 "nbformat_minor": 5
}
