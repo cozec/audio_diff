<<<<<<< HEAD
Audio Difference Detection: Replacement Demo
=======
{
 "cells": [
  {
   "cell_type": "markdown",
   "metadata": {},
   "source": [
    "Audio diff\n"
   ]
  },
  {
   "cell_type": "code",
   "execution_count": 1,
   "metadata": {},
   "outputs": [
    {
     "name": "stderr",
     "output_type": "stream",
     "text": [
      "/Users/ywang/Projects_Cursor/.venv/lib/python3.9/site-packages/urllib3/__init__.py:35: NotOpenSSLWarning: urllib3 v2 only supports OpenSSL 1.1.1+, currently the 'ssl' module is compiled with 'LibreSSL 2.8.3'. See: https://github.com/urllib3/urllib3/issues/3020\n",
      "  warnings.warn(\n"
     ]
    }
   ],
   "source": [
    "import numpy as np\n",
    "import soundfile as sf\n",
    "import gtts\n",
    "import io\n",
    "import librosa\n"
   ]
  },
  {
   "cell_type": "code",
   "execution_count": 2,
   "metadata": {},
   "outputs": [],
   "source": [
    "def text_to_audio(text, sr=16000):\n",
    "    \"\"\"Convert text to audio using Google TTS\"\"\"\n",
    "    try:\n",
    "        tts = gtts.gTTS(text=text, lang='en', slow=False)\n",
    "        fp = io.BytesIO()\n",
    "        tts.write_to_fp(fp)\n",
    "        fp.seek(0)\n",
    "        y, _ = librosa.load(fp, sr=sr)\n",
    "        return y\n",
    "    except Exception as e:\n",
    "        print(f\"Error in text_to_audio: {str(e)}\")\n",
    "        raise\n"
   ]
  },
  {
   "cell_type": "code",
   "execution_count": 3,
   "metadata": {},
   "outputs": [],
   "source": [
    "def create_demo_replacement():\n",
    "    \"\"\"Create demo audio files with word replacement\"\"\"\n",
    "    sr = 16000  # Sample rate\n",
    "    \n",
    "    try:\n",
    "        # Generate synthetic speech for words\n",
    "        y1 = text_to_audio(\"the\", sr=sr)\n",
    "        y2_original = text_to_audio(\"big\", sr=sr)\n",
    "        y2_modified = text_to_audio(\"small\", sr=sr)\n",
    "        y3 = text_to_audio(\"cat\", sr=sr)\n",
    "        \n",
    "        # Add small silence between words\n",
    "        silence = np.zeros(int(0.2 * sr))  # 200ms silence\n",
    "        \n",
    "        # Create original audio with three words\n",
    "        original_audio = np.concatenate([y1, silence, y2_original, silence, y3])\n",
    "        \n",
    "        # Create modified audio by replacing the middle word\n",
    "        modified_audio = np.concatenate([y1, silence, y2_modified, silence, y3])\n",
    "        \n",
    "        # Save audio files\n",
    "        sf.write('original_replacement.wav', original_audio, sr)\n",
    "        sf.write('modified_replacement.wav', modified_audio, sr)\n",
    "        \n",
    "        print(\"\\nReplacement Demo Files Created:\")\n",
    "        print(f\"Original audio: 'the big cat'\")\n",
    "        print(f\"Modified audio: 'the small cat' (middle word replaced)\")\n",
    "        \n",
    "        return 'original_replacement.wav', 'modified_replacement.wav'\n",
    "        \n",
    "    except Exception as e:\n",
    "        print(f\"Error creating replacement demo: {str(e)}\")\n",
    "        raise\n"
   ]
  },
  {
   "cell_type": "code",
   "execution_count": 4,
   "metadata": {},
   "outputs": [
    {
     "name": "stdout",
     "output_type": "stream",
     "text": [
      "\n",
      "Replacement Demo Files Created:\n",
      "Original audio: 'the big cat'\n",
      "Modified audio: 'the small cat' (middle word replaced)\n",
      "Converting audio files to mel-spectrograms...\n",
      "Calculating similarity and identifying segments...\n",
      "Generating visualizations...\n",
      "\n",
      "Segment Analysis Results:\n",
      "--------------------------------------------------\n",
      "File 1: original_replacement.wav\n",
      "File 2: modified_replacement.wav\n",
      "\n",
      "Identified Segments:\n",
      "\n",
      "Segment 1:\n",
      "Type: common\n",
      "Start time: 0.00s\n",
      "End time: 0.96s\n",
      "Duration: 0.96s\n",
      "\n",
      "Segment 2:\n",
      "Type: unique_2\n",
      "Start time: 0.97s\n",
      "End time: 1.61s\n",
      "Duration: 0.64s\n",
      "\n",
      "Segment 3:\n",
      "Type: unique_1\n",
      "Start time: 0.97s\n",
      "End time: 1.42s\n",
      "Duration: 0.45s\n",
      "\n",
      "Segment 4:\n",
      "Type: common\n",
      "Start time: 1.43s\n",
      "End time: 2.53s\n",
      "Duration: 1.10s\n",
      "\n",
      "Visualizations saved as:\n",
      "- 'distance_matrix.png' (similarity matrix and distributions)\n",
      "- 'distance_histogram.png' (distribution of all distances)\n",
      "- 'waveform_connections.png' (waveforms with matching points)\n"
     ]
    }
   ],
   "source": [
    "if __name__ == \"__main__\":\n",
    "    try:\n",
    "        original_file, modified_file = create_demo_replacement()\n",
    "        from compare_audio_mel import MelSpectrogramComparator\n",
    "        comparator = MelSpectrogramComparator(original_file, modified_file)\n",
    "        comparator.compare()\n",
    "    except Exception as e:\n",
    "        print(f\"Error: {str(e)}\") "
   ]
  },
  {
   "cell_type": "markdown",
   "metadata": {},
   "source": [
    "![image](waveform_connections.png)\n"
   ]
  }
 ],
 "metadata": {
  "kernelspec": {
   "display_name": "Python 3 (ipykernel)",
   "language": "python",
   "name": "python3"
  },
  "language_info": {
   "codemirror_mode": {
    "name": "ipython",
    "version": 3
   },
   "file_extension": ".py",
   "mimetype": "text/x-python",
   "name": "python",
   "nbconvert_exporter": "python",
   "pygments_lexer": "ipython3",
   "version": "3.9.6"
  }
 },
 "nbformat": 4,
 "nbformat_minor": 4
}
>>>>>>> 60665f7 (replacement demo)
