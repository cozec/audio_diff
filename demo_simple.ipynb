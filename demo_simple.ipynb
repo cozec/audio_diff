{
 "cells": [
  {
   "cell_type": "code",
   "execution_count": null,
   "id": "c40af10b-1570-47cc-b58a-363493537444",
   "metadata": {},
   "outputs": [],
   "source": [
    "import numpy as np\n",
    "import soundfile as sf\n",
    "import gtts\n",
    "import io\n",
    "import librosa"
   ]
  },
  {
   "cell_type": "code",
   "execution_count": 2,
   "id": "5016a1c8-7a7a-4a6e-9943-d69f4e4c5a54",
   "metadata": {},
   "outputs": [],
   "source": [
    "def text_to_audio(text, sr=16000):\n",
    "    \"\"\"Convert text to audio using Google TTS\"\"\"\n",
    "    try:\n",
    "        tts = gtts.gTTS(text=text, lang='en', slow=False)\n",
    "        fp = io.BytesIO()\n",
    "        tts.write_to_fp(fp)\n",
    "        fp.seek(0)\n",
    "        y, _ = librosa.load(fp, sr=sr)\n",
    "        return y\n",
    "    except Exception as e:\n",
    "        print(f\"Error in text_to_audio: {str(e)}\")\n",
    "        raise\n"
   ]
  },
  {
   "cell_type": "code",
   "execution_count": null,
   "id": "39807f06-a563-43a0-ac4a-588726c1687c",
   "metadata": {},
   "outputs": [],
   "source": [
    "def create_demo_deletion():\n",
    "    \"\"\"Create demo audio files with word deletion\"\"\"\n",
    "    sr = 16000  # Sample rate\n",
    "    \n",
    "    try:\n",
    "        # Generate synthetic speech for words\n",
    "        y1 = text_to_audio(\"the\", sr=sr)\n",
    "        y2 = text_to_audio(\"big\", sr=sr)  # This word will be deleted\n",
    "        y3 = text_to_audio(\"cat\", sr=sr)\n",
    "        \n",
    "        # Add small silence between words\n",
    "        silence = np.zeros(int(0.2 * sr))  # 200ms silence\n",
    "        \n",
    "        # Create original audio with three words\n",
    "        original_audio = np.concatenate([y1, silence, y2, silence, y3])\n",
    "        \n",
    "        # Create modified audio by removing the middle word\n",
    "        modified_audio = np.concatenate([y1, silence, y3])\n",
    "        \n",
    "        # Save audio files\n",
    "        sf.write('original_deletion.wav', original_audio, sr)\n",
    "        sf.write('modified_deletion.wav', modified_audio, sr)\n",
    "        \n",
    "        print(\"\\nDeletion Demo Files Created:\")\n",
    "        print(f\"Original audio: 'the big cat'\")\n",
    "        print(f\"Modified audio: 'the cat' (middle word deleted)\")\n",
    "        \n",
    "        return 'original_deletion.wav', 'modified_deletion.wav'\n",
    "        \n",
    "    except Exception as e:\n",
    "        print(f\"Error creating deletion demo: {str(e)}\")\n",
    "        raise\n"
   ]
  },
  {
   "cell_type": "code",
   "execution_count": null,
   "id": "1cda1f96-541f-42ea-854e-9a3e5e88fc31",
   "metadata": {},
   "outputs": [],
   "source": [
    "if __name__ == \"__main__\":\n",
    "    try:\n",
    "        original_file, modified_file = create_demo_deletion()\n",
    "        from compare_audio_mel import MelSpectrogramComparator\n",
    "        comparator = MelSpectrogramComparator(original_file, modified_file)\n",
    "        comparator.compare()\n",
    "    except Exception as e:\n",
    "        print(f\"Error: {str(e)}\") "
   ]
  },
  {
   "cell_type": "code",
   "execution_count": 6,
   "id": "7617b2a9-4355-41bc-a92c-199610509e37",
   "metadata": {},
   "outputs": [],
   "source": [
    "from IPython.display import Image"
   ]
  },
  {
   "cell_type": "code",
   "execution_count": 7,
   "id": "1bc8ddef-78b9-40c3-9b28-f42d17e80a1d",
   "metadata": {},
   "outputs": [
    {
     "data": {
      "text/html": [
       "<img src=\"waveform_connections.png\"/>"
      ],
      "text/plain": [
       "<IPython.core.display.Image object>"
      ]
     },
     "execution_count": 7,
     "metadata": {},
     "output_type": "execute_result"
    }
   ],
   "source": [
    "Image(url=\"waveform_connections.png\") "
   ]
  },
  {
   "cell_type": "code",
   "execution_count": 8,
   "id": "8db1ddf8-8b88-4e8c-8878-c3cadd130ff4",
   "metadata": {},
   "outputs": [
    {
     "data": {
      "text/html": [
       "<img src=\"distance_matrix.png\"/>"
      ],
      "text/plain": [
       "<IPython.core.display.Image object>"
      ]
     },
     "execution_count": 8,
     "metadata": {},
     "output_type": "execute_result"
    }
   ],
   "source": [
    "Image(url=\"distance_matrix.png\")"
   ]
  },
  {
   "cell_type": "code",
   "execution_count": null,
   "id": "5eabdafa-0e79-475d-9049-427d28199cb6",
   "metadata": {},
   "outputs": [],
   "source": []
  }
 ],
 "metadata": {
  "kernelspec": {
   "display_name": "Python 3 (ipykernel)",
   "language": "python",
   "name": "python3"
  },
  "language_info": {
   "codemirror_mode": {
    "name": "ipython",
    "version": 3
   },
   "file_extension": ".py",
   "mimetype": "text/x-python",
   "name": "python",
   "nbconvert_exporter": "python",
   "pygments_lexer": "ipython3",
   "version": "3.9.6"
  }
 },
 "nbformat": 4,
 "nbformat_minor": 5
}
