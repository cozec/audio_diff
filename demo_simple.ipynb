{
 "cells": [
  {
   "cell_type": "code",
   "execution_count": 1,
   "id": "1d06d3b2-eb2c-42e3-929a-8a03bfaa7868",
   "metadata": {},
   "outputs": [
    {
     "name": "stderr",
     "output_type": "stream",
     "text": [
      "/Users/ywang/Projects_Cursor/.venv/lib/python3.9/site-packages/urllib3/__init__.py:35: NotOpenSSLWarning: urllib3 v2 only supports OpenSSL 1.1.1+, currently the 'ssl' module is compiled with 'LibreSSL 2.8.3'. See: https://github.com/urllib3/urllib3/issues/3020\n",
      "  warnings.warn(\n"
     ]
    }
   ],
   "source": [
    "import numpy as np\n",
    "import soundfile as sf\n",
    "import gtts\n",
    "import io\n",
    "import librosa"
   ]
  },
  {
   "cell_type": "code",
   "execution_count": 2,
   "id": "5016a1c8-7a7a-4a6e-9943-d69f4e4c5a54",
   "metadata": {},
   "outputs": [],
   "source": [
    "def text_to_audio(text, sr=16000):\n",
    "    \"\"\"Convert text to audio using Google TTS\"\"\"\n",
    "    try:\n",
    "        tts = gtts.gTTS(text=text, lang='en', slow=False)\n",
    "        fp = io.BytesIO()\n",
    "        tts.write_to_fp(fp)\n",
    "        fp.seek(0)\n",
    "        y, _ = librosa.load(fp, sr=sr)\n",
    "        return y\n",
    "    except Exception as e:\n",
    "        print(f\"Error in text_to_audio: {str(e)}\")\n",
    "        raise\n"
   ]
  },
  {
   "cell_type": "code",
   "execution_count": 6,
   "id": "7617b2a9-4355-41bc-a92c-199610509e37",
   "metadata": {},
   "outputs": [],
   "source": [
    "from IPython.display import Image"
   ]
  },
  {
   "cell_type": "code",
   "execution_count": null,
   "id": "1bc8ddef-78b9-40c3-9b28-f42d17e80a1d",
   "metadata": {},
   "outputs": [],
   "source": [
    "Image(url=\"snowfall4.jpeg\", width=300, height=300) "
   ]
  }
 ],
 "metadata": {
  "kernelspec": {
   "display_name": "Python 3 (ipykernel)",
   "language": "python",
   "name": "python3"
  },
  "language_info": {
   "codemirror_mode": {
    "name": "ipython",
    "version": 3
   },
   "file_extension": ".py",
   "mimetype": "text/x-python",
   "name": "python",
   "nbconvert_exporter": "python",
   "pygments_lexer": "ipython3",
   "version": "3.9.6"
  }
 },
 "nbformat": 4,
 "nbformat_minor": 5
}
